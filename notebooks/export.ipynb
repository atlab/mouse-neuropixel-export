{
 "cells": [
  {
   "cell_type": "code",
   "execution_count": 8,
   "id": "92f21c77-a066-49ed-8a78-2cbad205baff",
   "metadata": {},
   "outputs": [
    {
     "data": {
      "text/plain": [
       "True"
      ]
     },
     "execution_count": 8,
     "metadata": {},
     "output_type": "execute_result"
    }
   ],
   "source": [
    "import datajoint as dj\n",
    "from dotenv import load_dotenv\n",
    "load_dotenv()"
   ]
  },
  {
   "cell_type": "code",
   "execution_count": 9,
   "id": "0655c242-1da2-47c7-bab4-82401ff9d1b2",
   "metadata": {},
   "outputs": [
    {
     "data": {
      "text/plain": [
       "'0.14.3'"
      ]
     },
     "execution_count": 9,
     "metadata": {},
     "output_type": "execute_result"
    }
   ],
   "source": [
    "dj.__version__"
   ]
  }
 ],
 "metadata": {
  "kernelspec": {
   "display_name": "mouse-neuropixel-export",
   "language": "python",
   "name": "python3"
  },
  "language_info": {
   "codemirror_mode": {
    "name": "ipython",
    "version": 3
   },
   "file_extension": ".py",
   "mimetype": "text/x-python",
   "name": "python",
   "nbconvert_exporter": "python",
   "pygments_lexer": "ipython3",
   "version": "3.12.12"
  }
 },
 "nbformat": 4,
 "nbformat_minor": 5
}
